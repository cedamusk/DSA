{
  "nbformat": 4,
  "nbformat_minor": 0,
  "metadata": {
    "colab": {
      "private_outputs": true,
      "provenance": [],
      "authorship_tag": "ABX9TyN/YFL8nHc01CFMpr7W7b23",
      "include_colab_link": true
    },
    "kernelspec": {
      "name": "python3",
      "display_name": "Python 3"
    },
    "language_info": {
      "name": "python"
    }
  },
  "cells": [
    {
      "cell_type": "markdown",
      "metadata": {
        "id": "view-in-github",
        "colab_type": "text"
      },
      "source": [
        "<a href=\"https://colab.research.google.com/github/cedamusk/DSA/blob/main/Linked_list.ipynb\" target=\"_parent\"><img src=\"https://colab.research.google.com/assets/colab-badge.svg\" alt=\"Open In Colab\"/></a>"
      ]
    },
    {
      "cell_type": "markdown",
      "source": [
        "# Linked list\n",
        "Linear data structure similar to arrays\n",
        "\n",
        "A collection of nodes that are linked with each other"
      ],
      "metadata": {
        "id": "iHOTSH6qdjNR"
      }
    },
    {
      "cell_type": "markdown",
      "source": [
        "## Creating a linked list in Python"
      ],
      "metadata": {
        "id": "r3ubWKNUekRu"
      }
    },
    {
      "cell_type": "code",
      "source": [
        "class Node:\n",
        "  def __init__(self, data):\n",
        "    self.data=data\n",
        "    self.next=None"
      ],
      "metadata": {
        "id": "QP8ER2zqeqEH"
      },
      "execution_count": null,
      "outputs": []
    },
    {
      "cell_type": "markdown",
      "source": [
        "### Insertion at beginning\n",
        "This method inserts the node at the beginning of the linked list\n",
        "\n"
      ],
      "metadata": {
        "id": "2Tvlzgmke2Or"
      }
    },
    {
      "cell_type": "code",
      "source": [
        "def insert_at_begin(self, data):\n",
        "  new_node=data\n",
        "  if self.head is None:\n",
        "    self.head=new_node\n",
        "    return\n",
        "  else:\n",
        "    new_node.next=self.head\n",
        "    self.head=new_node"
      ],
      "metadata": {
        "id": "2TFxeYFRfEN1"
      },
      "execution_count": null,
      "outputs": []
    },
    {
      "cell_type": "markdown",
      "source": [
        "### Insert node at specific position\n",
        "\n",
        "This method inerts the node at the given index in the liked list.\n",
        "\n",
        "In this method, a new_node is created with the given data, a current_node that equals to the head and a counter position initializes with 0\n",
        "\n",
        "If the index is not equal to zero, we run a while loop until current_node is not equal to None.\n",
        "\n",
        "When the lopp breaks, and the current_node is not equal to None, we insert new_node after the current_node.\n",
        "\n",
        "If the current_node is equal to None it means that the index is not present in the list ad we print \"Index not present\""
      ],
      "metadata": {
        "id": "b9wGYfvikRjY"
      }
    },
    {
      "cell_type": "code",
      "source": [
        "def insert_at_index(self, data, index):\n",
        "  new_node=data\n",
        "  current_node=self.head\n",
        "  position=0\n",
        "  if position==0:\n",
        "    self.insert_at_begin(data)\n",
        "  else:\n",
        "    while(current_node != None and position+1 !=index):\n",
        "      position=position+1\n",
        "      current_node=current_node.next\n",
        "    if current_node !=None:\n",
        "      new_node.next=current_node.next\n",
        "      current_node.next=new_node\n",
        "    else:\n",
        "      print(\"Index not present\")"
      ],
      "metadata": {
        "id": "O069IwbylQHK"
      },
      "execution_count": null,
      "outputs": []
    },
    {
      "cell_type": "markdown",
      "source": [
        "### Insertion at end\n",
        "\n",
        "\n",
        "*   This method inserts the node at the end of a linked list\n",
        "*   Create a new_node with a given data and check if the head is empty\n",
        "\n",
        "\n",
        "*   If head is empty, new_node acts as head and return, else we make current_node equal to to head, traverse to last node and when we get None after current_node, while loop breaks and inserts the new_node in the next current_node, which is last node of the linked list\n",
        "\n",
        "\n",
        "\n"
      ],
      "metadata": {
        "id": "De-Kgwr4mEfH"
      }
    },
    {
      "cell_type": "code",
      "source": [
        "def insert_at_end(self, data):\n",
        "  new_node=data\n",
        "  if self.head is None:\n",
        "    self.head=new_node\n",
        "    return\n",
        "  else:\n",
        "    current_node=self.head\n",
        "    while(current_node.next != None):\n",
        "      current_node=current_node.next\n",
        "    current_node.next=new_node"
      ],
      "metadata": {
        "id": "oWl7qlY9nBJz"
      },
      "execution_count": null,
      "outputs": []
    },
    {
      "cell_type": "markdown",
      "source": [
        "### Update the node of a linked list\n",
        "\n",
        "\n",
        "\n",
        "*   This code defines a method called update_node in a linked list class\n",
        "*   It is used to update the value of a node at a give position in the linked list\n"
      ],
      "metadata": {
        "id": "Orqq2lq273FY"
      }
    },
    {
      "cell_type": "code",
      "source": [
        "def update_node(self, val, index):\n",
        "  current_node=self.head\n",
        "  position=0\n",
        "  if position==index:\n",
        "    current_node.data=val\n",
        "  else:\n",
        "    while(current_node != None and position !=index):\n",
        "      position=position+1\n",
        "      current_node=current_node.next\n",
        "\n",
        "    if current_node !=None:\n",
        "      current_node.data=val\n",
        "    else:\n",
        "      print(\"index not present\")\n",
        "\n",
        "def update_node(self, val, index):\n",
        "  if index<0 or index>=len(self.data):\n",
        "    raise IndexError(\"Index out of bounds\")\n",
        "  self.data[index]=val"
      ],
      "metadata": {
        "id": "PdNmBzSn-IL4"
      },
      "execution_count": null,
      "outputs": []
    },
    {
      "cell_type": "markdown",
      "source": [
        "### Delete first node\n",
        "\n",
        "\n",
        "*   This method removes the first node of the linked list simply by making the second node head of the linked list\n",
        "\n"
      ],
      "metadata": {
        "id": "5CgETnh7_p_L"
      }
    },
    {
      "cell_type": "code",
      "source": [
        "def remove_first_node(self):\n",
        "  if(self.head==None):\n",
        "    return\n",
        "  self.head=self.head.next"
      ],
      "metadata": {
        "id": "5Cu7ljG4_-jq"
      },
      "execution_count": null,
      "outputs": []
    },
    {
      "cell_type": "markdown",
      "source": [
        "### Delete last node\n",
        "\n",
        "\n",
        "*   This method will delete the last node\n"
      ],
      "metadata": {
        "id": "7a5nFKVjAS9j"
      }
    },
    {
      "cell_type": "code",
      "source": [
        "def remove_last_node(self):\n",
        "  if self.head is None:\n",
        "    return\n",
        "  curr=self.head\n",
        "  while(curr and curr.next.next):\n",
        "    curr=curr.next\n",
        "  curr.next=None"
      ],
      "metadata": {
        "id": "ZJrZPgalAhrh"
      },
      "execution_count": null,
      "outputs": []
    },
    {
      "cell_type": "markdown",
      "source": [
        "### Delete a linked list node at a given position\n",
        "\n",
        "\n",
        "*   Method same as insert_at_index() method\n",
        "*   If head is None, we simply return else, initialize a current_node with self.head and position with 0\n",
        "* If position is equal to index, we call the remove_first_node() method, else we traverse to the one node before that which we want to remove\n",
        "* When out of the while loop, we check that current_node is equal to None, if not, then we make the next current_node equal to the next of the node that we want to remove, else we print the message\n",
        "\n",
        "\n"
      ],
      "metadata": {
        "id": "2nYchcbMA9X9"
      }
    },
    {
      "cell_type": "code",
      "source": [
        "def remove_at_index(self, index):\n",
        "  if self.head==None:\n",
        "    return\n",
        "  current_node=self.head\n",
        "  position=0\n",
        "  if position==index:\n",
        "    self.remove_first_node()\n",
        "  else:\n",
        "    while(current_node != None and position+1 !=index):\n",
        "      position=position+1\n",
        "      current_node=current_node.next\n",
        "\n",
        "    if current_node !=None:\n",
        "      current_node.next=current_node.next.next\n",
        "    else:\n",
        "      print(\"Index not present\")"
      ],
      "metadata": {
        "id": "6OSXMUEKCPAB"
      },
      "execution_count": null,
      "outputs": []
    },
    {
      "cell_type": "markdown",
      "source": [
        "### Linked list traversal in Python\n",
        "\n",
        "\n",
        "*   This method traverses the linked list and prints the data of each node\n",
        "\n",
        "*   We make current_node equal to the head and iterate through the linked list using a while loop until current_node becomes None and prints the data of current_node in each iteration and make the current_node next to it\n"
      ],
      "metadata": {
        "id": "7xgrRSvvFM-r"
      }
    },
    {
      "cell_type": "code",
      "source": [
        "def print(self):\n",
        "  current_node=self.head\n",
        "  while(current_node):\n",
        "    print(current_node.data)\n",
        "    current_node=current_node.next"
      ],
      "metadata": {
        "id": "OFhlu5-eGFKv"
      },
      "execution_count": null,
      "outputs": []
    },
    {
      "cell_type": "markdown",
      "source": [
        "### Get length of a linked list\n",
        "\n",
        "\n",
        "*   This method returns the size of the linked list\n",
        "*   We have an initialized counter 'size' with 0, and if the head is equal to None, we traverse the linked list using a while loop and increment the size by 1 in each iteration and return the size when current_node becomes None, else we return 0\n",
        "\n"
      ],
      "metadata": {
        "id": "wYGTmPa9HIMx"
      }
    },
    {
      "cell_type": "code",
      "source": [
        "def sizeofll(self):\n",
        "  size=0\n",
        "  if(self.head):\n",
        "    current_node=self.head\n",
        "    while(current_node):\n",
        "      size=size+1\n",
        "      current_node=current_node.next\n",
        "    return size\n",
        "  else:\n",
        "    return 0"
      ],
      "metadata": {
        "id": "T-D7QfJIH6_9"
      },
      "execution_count": null,
      "outputs": []
    },
    {
      "cell_type": "markdown",
      "source": [
        "### Example illustration of a linked list"
      ],
      "metadata": {
        "id": "Vt1TIoDyIdzq"
      }
    },
    {
      "cell_type": "code",
      "source": [
        "class Node:\n",
        "    def __init__(self, data):\n",
        "        self.data = data\n",
        "        self.next = None\n",
        "\n",
        "class LinkedList:\n",
        "    def __init__(self):\n",
        "        self.head = None\n",
        "\n",
        "    def insert_at_begin(self, data):\n",
        "        new_node = Node(data)\n",
        "        new_node.next = self.head\n",
        "        self.head = new_node\n",
        "\n",
        "    def insert_at_index(self, data, index):\n",
        "        if index < 0 or (index > 0 and self.head is None):  # Check for valid index\n",
        "            print(\"Index not present\")\n",
        "            return\n",
        "        if index == 0:\n",
        "            self.insert_at_begin(data)\n",
        "            return\n",
        "\n",
        "        new_node = Node(data)\n",
        "        current_node = self.head\n",
        "        position = 0\n",
        "\n",
        "        while current_node is not None and position + 1 != index:\n",
        "            position += 1\n",
        "            current_node = current_node.next\n",
        "\n",
        "        if current_node is None:\n",
        "            print(\"Index not present\")\n",
        "        else:\n",
        "            new_node.next = current_node.next\n",
        "            current_node.next = new_node\n",
        "\n",
        "    def insert_at_end(self, data):\n",
        "        new_node = Node(data)\n",
        "        if self.head is None:\n",
        "            self.head = new_node\n",
        "            return\n",
        "\n",
        "        current_node = self.head\n",
        "        while current_node.next:\n",
        "            current_node = current_node.next\n",
        "\n",
        "        current_node.next = new_node\n",
        "\n",
        "    def update_node(self, val, index):\n",
        "        current_node = self.head\n",
        "        position = 0\n",
        "\n",
        "        while current_node is not None and position != index:\n",
        "            position += 1\n",
        "            current_node = current_node.next\n",
        "\n",
        "        if current_node is not None:\n",
        "            current_node.data = val\n",
        "        else:\n",
        "            print(\"Index not present\")\n",
        "\n",
        "    def remove_first_node(self):\n",
        "        if self.head is None:\n",
        "            return\n",
        "        self.head = self.head.next\n",
        "\n",
        "    def remove_last_node(self):\n",
        "        if self.head is None:\n",
        "            return\n",
        "        if self.head.next is None:  # Only one node case\n",
        "            self.head = None\n",
        "            return\n",
        "\n",
        "        current_node = self.head\n",
        "        while current_node.next and current_node.next.next:\n",
        "            current_node = current_node.next\n",
        "\n",
        "        current_node.next = None\n",
        "\n",
        "    def remove_at_index(self, index):\n",
        "        if self.head is None:\n",
        "            return\n",
        "        if index < 0:\n",
        "            print(\"Index not present\")\n",
        "            return\n",
        "\n",
        "        current_node = self.head\n",
        "        position = 0\n",
        "\n",
        "        if index == 0:\n",
        "            self.remove_first_node()\n",
        "            return\n",
        "\n",
        "        while current_node is not None and position + 1 != index:\n",
        "            position += 1\n",
        "            current_node = current_node.next\n",
        "\n",
        "        if current_node is not None and current_node.next is not None:\n",
        "            current_node.next = current_node.next.next\n",
        "        else:\n",
        "            print(\"Index not present\")\n",
        "\n",
        "    def remove_node(self, data):\n",
        "        if self.head is None:\n",
        "            return\n",
        "\n",
        "        current_node = self.head\n",
        "\n",
        "        if current_node.data == data:\n",
        "            self.remove_first_node()\n",
        "            return\n",
        "\n",
        "        while current_node.next is not None and current_node.next.data != data:\n",
        "            current_node = current_node.next\n",
        "\n",
        "        if current_node.next is None:\n",
        "            print(\"Node not found\")\n",
        "        else:\n",
        "            current_node.next = current_node.next.next\n",
        "\n",
        "    def size_of_ll(self):\n",
        "        size = 0\n",
        "        current_node = self.head\n",
        "        while current_node:\n",
        "            size += 1\n",
        "            current_node = current_node.next\n",
        "        return size\n",
        "\n",
        "    def print_ll(self):\n",
        "        current_node = self.head\n",
        "        while current_node:\n",
        "            print(current_node.data, end=\" -> \")\n",
        "            current_node = current_node.next\n",
        "        print(\"None\")\n",
        "\n",
        "\n",
        "# Main code to test the linked list\n",
        "llist = LinkedList()\n",
        "\n",
        "# Add nodes to the linked list\n",
        "llist.insert_at_end('a')\n",
        "llist.insert_at_end('b')\n",
        "llist.insert_at_begin('c')\n",
        "llist.insert_at_end('d')\n",
        "llist.insert_at_index('g', 2)\n",
        "\n",
        "print(\"Node Data\")\n",
        "llist.print_ll()\n",
        "\n",
        "# Remove nodes from the linked list\n",
        "print(\"\\nRemove First Node\")\n",
        "llist.remove_first_node()\n",
        "print(\"Remove Last Node\")\n",
        "llist.remove_last_node()\n",
        "print(\"Remove Node at Index 1\")\n",
        "llist.remove_at_index(1)\n",
        "\n",
        "print(\"\\nLinked List after removing nodes:\")\n",
        "llist.print_ll()\n",
        "\n",
        "# Update node value\n",
        "print(\"\\nUpdate node value\")\n",
        "llist.update_node('z', 0)\n",
        "llist.print_ll()\n",
        "\n",
        "print(\"\\nSize of linked list:\", llist.size_of_ll())\n"
      ],
      "metadata": {
        "id": "ORMbzZOgkxZ5"
      },
      "execution_count": null,
      "outputs": []
    }
  ]
}