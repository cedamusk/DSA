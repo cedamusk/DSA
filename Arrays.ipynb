{
  "nbformat": 4,
  "nbformat_minor": 0,
  "metadata": {
    "colab": {
      "private_outputs": true,
      "provenance": [],
      "authorship_tag": "ABX9TyMughdbyHka74nbk17Zoty3",
      "include_colab_link": true
    },
    "kernelspec": {
      "name": "python3",
      "display_name": "Python 3"
    },
    "language_info": {
      "name": "python"
    }
  },
  "cells": [
    {
      "cell_type": "markdown",
      "metadata": {
        "id": "view-in-github",
        "colab_type": "text"
      },
      "source": [
        "<a href=\"https://colab.research.google.com/github/cedamusk/DSA/blob/main/Arrays.ipynb\" target=\"_parent\"><img src=\"https://colab.research.google.com/assets/colab-badge.svg\" alt=\"Open In Colab\"/></a>"
      ]
    },
    {
      "cell_type": "markdown",
      "source": [
        "# Arrays\n",
        "\n"
      ],
      "metadata": {
        "id": "3ag9sLeUThB7"
      }
    },
    {
      "cell_type": "markdown",
      "source": [
        "An array is a linear data structure that collects elements of the same data types and stores them in a contiguous and adjacent memory locations. Arrays work on an index systems starting from 0 to (n-1), where n is the size of the array"
      ],
      "metadata": {
        "id": "1tYgXAsYTvfe"
      }
    },
    {
      "cell_type": "markdown",
      "source": [
        "## **Length of the array**"
      ],
      "metadata": {
        "id": "bLyCfmeEYSsE"
      }
    },
    {
      "cell_type": "markdown",
      "source": [
        "Constant time operation\n",
        "\n",
        "*   Arrays are stored in cotiguous memory location\n",
        "*   Length of array stored as metadata, when asking for length, the pre-stored metadata is accessed, therefore constant time complexity\n",
        "\n"
      ],
      "metadata": {
        "id": "shCaBOg_Y5uC"
      }
    },
    {
      "cell_type": "code",
      "source": [
        "my_array=[1,2,3,4,5]\n",
        "print(\"Length of the array:\", len(my_array))"
      ],
      "metadata": {
        "id": "2axSts4vUKOf"
      },
      "execution_count": null,
      "outputs": []
    },
    {
      "cell_type": "markdown",
      "source": [
        "## **Append an element at the end of the array**"
      ],
      "metadata": {
        "id": "5JWaDxclVLmU"
      }
    },
    {
      "cell_type": "markdown",
      "source": [
        "A constant time operation"
      ],
      "metadata": {
        "id": "b4XDueSqVcYx"
      }
    },
    {
      "cell_type": "markdown",
      "source": [
        "\n",
        "\n",
        "*   Dynamic arrays, amortized constant time (Python arrays)\n",
        "*   Static arrays, append becomes a linear time complexity\n",
        "\n"
      ],
      "metadata": {
        "id": "uhWO7IDmbrLH"
      }
    },
    {
      "cell_type": "code",
      "source": [
        "my_array.append(6)\n",
        "print(\"Array after appending:\", my_array)"
      ],
      "metadata": {
        "id": "Vcq_9IwiUZGW"
      },
      "execution_count": null,
      "outputs": []
    },
    {
      "cell_type": "markdown",
      "source": [
        "## **Insert element at a specific index**"
      ],
      "metadata": {
        "id": "Jc6ltATbV7gU"
      }
    },
    {
      "cell_type": "markdown",
      "source": [
        "Worst case scenario, a linear time operation\n",
        "\n",
        "\n",
        "*   Shifting elements to make space for new element\n",
        "\n"
      ],
      "metadata": {
        "id": "EIeDEVJ8WII8"
      }
    },
    {
      "cell_type": "code",
      "source": [
        "my_array.insert(2, 99)\n",
        "print(\"Array after inserting at index 2:\", my_array)"
      ],
      "metadata": {
        "id": "wqnAXCY8V4nD"
      },
      "execution_count": null,
      "outputs": []
    },
    {
      "cell_type": "markdown",
      "source": [
        "## **Remove an element by index**"
      ],
      "metadata": {
        "id": "AP0H1v1QWjLh"
      }
    },
    {
      "cell_type": "markdown",
      "source": [
        "Worst case scenario, linear time operation\n",
        "\n",
        "\n",
        "*   Shifting elements to occupy space of deleted element\n",
        "*   If the element is at the end of the array, then it becomes a linear time complexity\n"
      ],
      "metadata": {
        "id": "cflsRMjeW2Ui"
      }
    },
    {
      "cell_type": "code",
      "source": [
        "my_array.remove(3)\n",
        "print(\"Array after removing element at index 3:\", my_array)"
      ],
      "metadata": {
        "id": "WbR7b0MaWb1A"
      },
      "execution_count": null,
      "outputs": []
    },
    {
      "cell_type": "markdown",
      "source": [
        "## **Access an element by index**"
      ],
      "metadata": {
        "id": "SMWtwqOyXYR_"
      }
    },
    {
      "cell_type": "markdown",
      "source": [
        "A constant time operation\n",
        "\n",
        "*   When element is first or last in the array, then constant time operation\n",
        "\n",
        "\n"
      ],
      "metadata": {
        "id": "cMdN2yrZXfq_"
      }
    },
    {
      "cell_type": "code",
      "source": [
        "first_element=my_array[0]\n",
        "print(\"First element of the array:\", first_element)"
      ],
      "metadata": {
        "id": "QjeEmOZoXLDJ"
      },
      "execution_count": null,
      "outputs": []
    },
    {
      "cell_type": "markdown",
      "source": [
        "## **Loop through the array**"
      ],
      "metadata": {
        "id": "vS6pQHWlXwJ7"
      }
    },
    {
      "cell_type": "markdown",
      "source": [
        "Linear time complexity\n",
        "\n",
        "*   proportionate to the number of elements in array.\n"
      ],
      "metadata": {
        "id": "Cyh1ta16X4Pw"
      }
    },
    {
      "cell_type": "code",
      "source": [
        "for element in my_array:\n",
        "  print(element)"
      ],
      "metadata": {
        "id": "FGNXBSzBXq_D"
      },
      "execution_count": null,
      "outputs": []
    }
  ]
}