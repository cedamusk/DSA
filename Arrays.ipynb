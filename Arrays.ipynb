{
  "nbformat": 4,
  "nbformat_minor": 0,
  "metadata": {
    "colab": {
      "private_outputs": true,
      "provenance": [],
      "authorship_tag": "ABX9TyN03+UOIdZogYqK3P62E1WB",
      "include_colab_link": true
    },
    "kernelspec": {
      "name": "python3",
      "display_name": "Python 3"
    },
    "language_info": {
      "name": "python"
    }
  },
  "cells": [
    {
      "cell_type": "markdown",
      "metadata": {
        "id": "view-in-github",
        "colab_type": "text"
      },
      "source": [
        "<a href=\"https://colab.research.google.com/github/cedamusk/DSA/blob/main/Arrays.ipynb\" target=\"_parent\"><img src=\"https://colab.research.google.com/assets/colab-badge.svg\" alt=\"Open In Colab\"/></a>"
      ]
    },
    {
      "cell_type": "markdown",
      "source": [
        "# Arrays\n",
        "\n"
      ],
      "metadata": {
        "id": "3ag9sLeUThB7"
      }
    },
    {
      "cell_type": "markdown",
      "source": [
        "An array is a linear data structure that collects elements of the same data types and stores them in a contiguous and adjacent memory locations. Arrays work on an index systems starting from 0 to (n-1), where n is the size of the array"
      ],
      "metadata": {
        "id": "1tYgXAsYTvfe"
      }
    },
    {
      "cell_type": "markdown",
      "source": [
        "## **Length of the array**"
      ],
      "metadata": {
        "id": "bLyCfmeEYSsE"
      }
    },
    {
      "cell_type": "markdown",
      "source": [
        "Constant time operation\n",
        "\n",
        "*   Arrays are stored in cotiguous memory location\n",
        "*   Length of array stored as metadata, when asking for length, the pre-stored metadata is accessed, therefore constant time complexity\n",
        "\n"
      ],
      "metadata": {
        "id": "shCaBOg_Y5uC"
      }
    },
    {
      "cell_type": "code",
      "source": [
        "my_array=[1,2,3,4,5]\n",
        "print(\"Length of the array:\", len(my_array))"
      ],
      "metadata": {
        "id": "2axSts4vUKOf"
      },
      "execution_count": null,
      "outputs": []
    },
    {
      "cell_type": "markdown",
      "source": [
        "## **Append an element at the end of the array**"
      ],
      "metadata": {
        "id": "5JWaDxclVLmU"
      }
    },
    {
      "cell_type": "markdown",
      "source": [
        "A constant time operation"
      ],
      "metadata": {
        "id": "b4XDueSqVcYx"
      }
    },
    {
      "cell_type": "markdown",
      "source": [
        "\n",
        "\n",
        "*   Dynamic arrays, amortized constant time (Python arrays)\n",
        "*   Static arrays, append becomes a linear time complexity\n",
        "\n"
      ],
      "metadata": {
        "id": "uhWO7IDmbrLH"
      }
    },
    {
      "cell_type": "code",
      "source": [
        "my_array.append(6)\n",
        "print(\"Array after appending:\", my_array)"
      ],
      "metadata": {
        "id": "Vcq_9IwiUZGW"
      },
      "execution_count": null,
      "outputs": []
    },
    {
      "cell_type": "markdown",
      "source": [
        "## **Insert element at a specific index**"
      ],
      "metadata": {
        "id": "Jc6ltATbV7gU"
      }
    },
    {
      "cell_type": "markdown",
      "source": [
        "Worst case scenario, a linear time operation\n",
        "\n",
        "\n",
        "*   Shifting elements to make space for new element\n",
        "\n"
      ],
      "metadata": {
        "id": "EIeDEVJ8WII8"
      }
    },
    {
      "cell_type": "code",
      "source": [
        "my_array.insert(2, 99)\n",
        "print(\"Array after inserting at index 2:\", my_array)"
      ],
      "metadata": {
        "id": "wqnAXCY8V4nD"
      },
      "execution_count": null,
      "outputs": []
    },
    {
      "cell_type": "markdown",
      "source": [
        "## **Remove an element by index**"
      ],
      "metadata": {
        "id": "AP0H1v1QWjLh"
      }
    },
    {
      "cell_type": "markdown",
      "source": [
        "Worst case scenario, linear time operation\n",
        "\n",
        "\n",
        "*   Shifting elements to occupy space of deleted element\n",
        "*   If the element is at the end of the array, then it becomes a linear time complexity\n"
      ],
      "metadata": {
        "id": "cflsRMjeW2Ui"
      }
    },
    {
      "cell_type": "code",
      "source": [
        "my_array.remove(3)\n",
        "print(\"Array after removing element at index 3:\", my_array)"
      ],
      "metadata": {
        "id": "WbR7b0MaWb1A"
      },
      "execution_count": null,
      "outputs": []
    },
    {
      "cell_type": "markdown",
      "source": [
        "## **Find an element**\n",
        "Linear time complexity O(n)\n"
      ],
      "metadata": {
        "id": "SMWtwqOyXYR_"
      }
    },
    {
      "cell_type": "markdown",
      "source": [
        "**Finding the Index of an element:**\n",
        "The index() method returns the index of the first occurence of a specified value in the list\n",
        "\n",
        "\n"
      ],
      "metadata": {
        "id": "cMdN2yrZXfq_"
      }
    },
    {
      "cell_type": "code",
      "source": [
        "my_array=[10,20, 30, 40, 50]\n",
        "index=my_array.index(30)\n",
        "print(\"index of 30:\", index)"
      ],
      "metadata": {
        "id": "QjeEmOZoXLDJ"
      },
      "execution_count": null,
      "outputs": []
    },
    {
      "cell_type": "markdown",
      "source": [
        "**Check for element's existence:**\n",
        "The **in** keyword is used to check of the element exists."
      ],
      "metadata": {
        "id": "G2To57bTMx0w"
      }
    },
    {
      "cell_type": "code",
      "source": [
        "my_array=[10, 20, 30, 40, 50]\n",
        "if 30 in my_array:\n",
        "  print(\"30 is in the array\")\n",
        "else:\n",
        "  print(\"30 is not in my array\")"
      ],
      "metadata": {
        "id": "d3sFBb6lHZYO"
      },
      "execution_count": null,
      "outputs": []
    },
    {
      "cell_type": "markdown",
      "source": [
        "**Counting occurrences of an element:**\n",
        "The **count()** method counts how many times a specific value appears in the list"
      ],
      "metadata": {
        "id": "Rv8xecZUNFtP"
      }
    },
    {
      "cell_type": "code",
      "source": [
        "my_array=[10, 20, 30, 30, 40, 50, 30]\n",
        "count_30=my_array.count(30)\n",
        "print(\"Count of 30:\", count_30)"
      ],
      "metadata": {
        "id": "UTKF473cIGqy"
      },
      "execution_count": null,
      "outputs": []
    },
    {
      "cell_type": "markdown",
      "source": [
        "**Finding all indices of an element:**\n",
        "If the array contains duplicate values, you can use a list comprehension to find all indices of a specified element"
      ],
      "metadata": {
        "id": "JXZCeGv_NX1o"
      }
    },
    {
      "cell_type": "code",
      "source": [
        "all_indices=[index for index, value in enumerate(my_array) if value==30]\n",
        "print(\"All indices of 30:\", all_indices)"
      ],
      "metadata": {
        "id": "3-4xCPQzIani"
      },
      "execution_count": null,
      "outputs": []
    },
    {
      "cell_type": "markdown",
      "source": [
        "**Using find_element() function with various options:**\n",
        "Example illustration of different ways to find elements."
      ],
      "metadata": {
        "id": "G9p_mYnyNrnF"
      }
    },
    {
      "cell_type": "code",
      "source": [
        "def find_element(array, element, find_all=False):\n",
        "  if find_all:\n",
        "    return [index for index, value in enumerate(array) if value==element]\n",
        "  elif element in array:\n",
        "    return array.index(element)\n",
        "  else:\n",
        "    return None\n",
        "\n",
        "my_array=[10,20,30,30,40,50,30]\n",
        "print(\"First index of 30:\", find_element(my_array, 30))\n",
        "print(\"All indices of 30:\", find_element(my_array, 30, find_all=True))"
      ],
      "metadata": {
        "id": "nGNRui6NI1x7"
      },
      "execution_count": null,
      "outputs": []
    },
    {
      "cell_type": "markdown",
      "source": [
        "## **Loop through the array**"
      ],
      "metadata": {
        "id": "vS6pQHWlXwJ7"
      }
    },
    {
      "cell_type": "markdown",
      "source": [
        "Linear time complexity\n",
        "\n",
        "*   proportionate to the number of elements in array.\n"
      ],
      "metadata": {
        "id": "Cyh1ta16X4Pw"
      }
    },
    {
      "cell_type": "code",
      "source": [
        "for element in my_array:\n",
        "  print(element)"
      ],
      "metadata": {
        "id": "FGNXBSzBXq_D"
      },
      "execution_count": null,
      "outputs": []
    },
    {
      "cell_type": "markdown",
      "source": [
        "## Sorting an Array\n",
        "Straightforward due to the built-in sort() method for lists and the sorted() function.\n",
        "\n",
        "Time complexity O(n log n)"
      ],
      "metadata": {
        "id": "sxdL6UgnD-sh"
      }
    },
    {
      "cell_type": "markdown",
      "source": [
        "**sort in ascending order**"
      ],
      "metadata": {
        "id": "ldAFCENOPJi7"
      }
    },
    {
      "cell_type": "code",
      "source": [
        "my_array=[5,2,9,1,5,6]\n",
        "my_array.sort() #Sorts in ascending order\n",
        "print(\"Sorted arry:\", my_array)"
      ],
      "metadata": {
        "id": "7eh14eFSETts"
      },
      "execution_count": null,
      "outputs": []
    },
    {
      "cell_type": "markdown",
      "source": [
        "**Sort in descending order**"
      ],
      "metadata": {
        "id": "JNk7MxHGPPsG"
      }
    },
    {
      "cell_type": "code",
      "source": [
        "my_array.sort(reverse=True)#Sorts in descending order\n",
        "print(\"Sorted array in descending order:\", my_array)"
      ],
      "metadata": {
        "id": "gGK1Cw9zEltb"
      },
      "execution_count": null,
      "outputs": []
    },
    {
      "cell_type": "markdown",
      "source": [
        "**Using the sorted() function**"
      ],
      "metadata": {
        "id": "124Uek-TPU_D"
      }
    },
    {
      "cell_type": "code",
      "source": [
        "my_array=[5,2,9,1,5,6]\n",
        "sorted_array=sorted(my_array)\n",
        "print(\"Original array:\", my_array)\n",
        "print(\"Sorted array(new):\", sorted_array)"
      ],
      "metadata": {
        "id": "djBtGLNnEzC9"
      },
      "execution_count": null,
      "outputs": []
    },
    {
      "cell_type": "markdown",
      "source": [
        "**Using the sorted() function in descending order**"
      ],
      "metadata": {
        "id": "6GQgsS3jPe3M"
      }
    },
    {
      "cell_type": "code",
      "source": [
        "sorted_array_desc=sorted(my_array, reverse=True)\n",
        "print(\"Sorted array in descending order:\", sorted_array_desc)"
      ],
      "metadata": {
        "id": "27Lpd8MQFP41"
      },
      "execution_count": null,
      "outputs": []
    },
    {
      "cell_type": "markdown",
      "source": [
        "**Sorting absolute values**"
      ],
      "metadata": {
        "id": "6AMqpYpuPmSA"
      }
    },
    {
      "cell_type": "code",
      "source": [
        "my_array=[-10, 1, -5, 6]\n",
        "sorted_by_abs=sorted(my_array, key=abs)\n",
        "print(\"Sorted by absolute values:\", sorted_by_abs)"
      ],
      "metadata": {
        "id": "XvIUUsizFno8"
      },
      "execution_count": null,
      "outputs": []
    },
    {
      "cell_type": "code",
      "source": [],
      "metadata": {
        "id": "Z_XYJWhEGjZj"
      },
      "execution_count": null,
      "outputs": []
    }
  ]
}