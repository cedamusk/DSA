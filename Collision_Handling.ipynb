{
  "nbformat": 4,
  "nbformat_minor": 0,
  "metadata": {
    "colab": {
      "private_outputs": true,
      "provenance": [],
      "authorship_tag": "ABX9TyMxGMq8BDUkqAHslNNsRa+b",
      "include_colab_link": true
    },
    "kernelspec": {
      "name": "python3",
      "display_name": "Python 3"
    },
    "language_info": {
      "name": "python"
    }
  },
  "cells": [
    {
      "cell_type": "markdown",
      "metadata": {
        "id": "view-in-github",
        "colab_type": "text"
      },
      "source": [
        "<a href=\"https://colab.research.google.com/github/cedamusk/DSA/blob/main/Collision_Handling.ipynb\" target=\"_parent\"><img src=\"https://colab.research.google.com/assets/colab-badge.svg\" alt=\"Open In Colab\"/></a>"
      ]
    },
    {
      "cell_type": "markdown",
      "source": [
        "# Collision Handling\n",
        "\n",
        "*When arrays are formed, they are stored in a database in computer's RAM called a a hashtable\n",
        "\n",
        "*A hashtable is a data structure that allows for quick insertion, deletion and retrieval of data\n",
        "\n",
        "*It works by using a hash function to map a ley to an index in an array\n",
        "\n",
        "*Hash function is a mathematical algorithm that takes an input and returns a fixed-size string of bytes, output usually represented as a sequence of numbers and letters\n",
        "\n",
        "*It is hard for a hash function to map to two same outputs, but when they do, it is called a collision\n",
        "\n",
        "*Two primary methods of collision handling include open addressing, where a probing function is used to find the next available slot.\n",
        "\n",
        "*Separate chaining where the new elements are simply added to the end of the linked list at the index\n",
        "\n",
        "\n",
        "\n",
        "\n",
        "\n",
        "\n",
        "\n",
        "\n"
      ],
      "metadata": {
        "id": "Byo9_Y0LFCOd"
      }
    },
    {
      "cell_type": "markdown",
      "source": [
        "## Ways to implement Hash Tables using Separate Chaining\n",
        "\n",
        "\n",
        "\n",
        "*   Create two classes: **Node** and **HashTable**\n",
        "*   The **Node** class will represent a node in a linked list. Each node will contain a key-value pair, as well as a pointer to the next node in the list\n",
        "\n"
      ],
      "metadata": {
        "id": "UZanCIkbILOI"
      }
    },
    {
      "cell_type": "code",
      "source": [
        "class Node:\n",
        "  def __init__(self, key, value):\n",
        "    self.key=key\n",
        "    self.value=value\n",
        "    self.next=None"
      ],
      "metadata": {
        "id": "ZZusyyEdI5A7"
      },
      "execution_count": null,
      "outputs": []
    },
    {
      "cell_type": "markdown",
      "source": [
        "\n",
        "\n",
        "*   The **HashTable** class will manage the array of buckets and provide methods of insertion, deletion and searching\n",
        "\n"
      ],
      "metadata": {
        "id": "Htfgc5cSJQcP"
      }
    },
    {
      "cell_type": "code",
      "source": [
        "class HashTable:\n",
        "  def __init__(self, capacity):\n",
        "    self.capacity=capacity\n",
        "    self.size=0\n",
        "    self.table=[None]*capacity"
      ],
      "metadata": {
        "id": "QGDaVThtJPal"
      },
      "execution_count": null,
      "outputs": []
    },
    {
      "cell_type": "markdown",
      "source": [
        "\n",
        "\n",
        "*   **__init__** method initializes the hash table with a given capcity\n",
        "*   **self.capacity** determines the number of buckets or slots available for stroing key-value pairs\n",
        "\n",
        "\n",
        "*   **self.size** keeps track of numbers of elements currently stored in the hash table, initialized to 0\n",
        "*   **self.table**, a list initialized with **None** values for each index, represents the actual storage area for key-value pairs\n",
        "\n",
        "\n"
      ],
      "metadata": {
        "id": "C_wwfOcVKz-c"
      }
    },
    {
      "cell_type": "markdown",
      "source": [
        "### **_hash** method\n",
        "\n",
        "*   This method takes a key and returns an index in the array where the key-value pair should be stored\n",
        "\n",
        "\n"
      ],
      "metadata": {
        "id": "4qi6uON6L_tY"
      }
    },
    {
      "cell_type": "code",
      "source": [
        "def _hash(self, key):\n",
        "  return hash(key)%self.capacity"
      ],
      "metadata": {
        "id": "9ZYYVPmdMRZD"
      },
      "execution_count": null,
      "outputs": []
    },
    {
      "cell_type": "markdown",
      "source": [
        "\n",
        "\n",
        "*   **def _hash** defines a private method named **_hash** that takes a key as an input\n",
        "*   **hash(key)** calculates the hash value of a given key using Python's built in hash function\n",
        "\n",
        "*   **%self.capacity** takes the moduloof the calculated hash value with the **self.capacity**\n",
        "\n",
        "\n",
        "\n"
      ],
      "metadata": {
        "id": "q6syeBA0Nb45"
      }
    },
    {
      "cell_type": "markdown",
      "source": [
        "### **insert** method\n",
        "\n",
        "*   Inserts a key-value pair into the hash table\n",
        "*   If there is no linked List at the index, it creates a node with the key-value pair and sets it as the head of the list\n",
        "\n",
        "*   If there's a linked list at the index, iterates through the list till the last node\n",
        "*   If the key already exists, it updates the value of the key\n",
        "\n",
        "\n",
        "\n"
      ],
      "metadata": {
        "id": "CkCfg_b9Ozum"
      }
    },
    {
      "cell_type": "code",
      "source": [
        "def insert(self, key, value):\n",
        "  index=self._hash(key)\n",
        "\n",
        "  if self.table[index] is None:\n",
        "    self.table[index]=(key, value)\n",
        "    self.size+=1\n",
        "  else:\n",
        "    current=self.table[index]\n",
        "    while current:\n",
        "      if current.key==key:\n",
        "        current.value=value\n",
        "        return\n",
        "      current=current.next\n",
        "    new_node=(key, value)\n",
        "    new_node.next=self.table[index]\n",
        "    self.table[index]=new_node\n",
        "    self.size+=1\n",
        ""
      ],
      "metadata": {
        "id": "NTaCpI0NMdXJ"
      },
      "execution_count": null,
      "outputs": []
    },
    {
      "cell_type": "markdown",
      "source": [
        "\n",
        "\n",
        "*   **index=self._hash(key)** calls the **_hash** method to calculate the index within the hash table where the key-value pair should be stored\n",
        "*   **if self.table[index] is None** check if the calculated index in the table list is empty\n",
        "*   **self.table[index]=(key, value)**\n",
        "directly assigns the key-value pair\n",
        "\n",
        "\n",
        "*   **self.size+=1** increments the size attribute to reflect the addition of a new element\n",
        "*   **current=self.table[index]** assigns the current node at the index to a variable current\n",
        "\n",
        "*   **while current** loops trough the linked list at the collided index until the end is reached\n",
        "*   **if current.key==key** checks if the current node's key matches the ley being inserted\n",
        "\n",
        "*   **current.value=value** updates the associated value with the existing key if its a duplicate\n",
        "*   **return** exits the function\n",
        "\n",
        "\n",
        "*   **new_node=(key, value)** creates a new node with the key-value pair as a tuple\n",
        "*   **new_node.next=self.table[index]** sets the next pointer of the new node to the current head of the linked list at the index\n",
        "\n",
        "*   **self.table[index]=new_node** updates the head of the linked list at the index to poit to the newly created node\n",
        "*   **self.size+=1** increments the size attribute to reflect the addition of a new element.\n",
        "\n"
      ],
      "metadata": {
        "id": "VSHREukdSJuK"
      }
    },
    {
      "cell_type": "markdown",
      "source": [],
      "metadata": {
        "id": "Vq8TLsloRsZc"
      }
    },
    {
      "cell_type": "markdown",
      "source": [
        "### **search** method\n",
        "\n",
        "*   Retrieves the value associated with a given key\n",
        "*   First gets the index where the key-value pair should be stored using the **_hash** method, then searches the linked list at that index for the key\n",
        "\n"
      ],
      "metadata": {
        "id": "bowCp-7oXjVs"
      }
    },
    {
      "cell_type": "code",
      "source": [
        "def search(self, key):\n",
        "  index=self._hash(key)\n",
        "\n",
        "  current=self.table[index]\n",
        "  while current:\n",
        "    if current.key==key:\n",
        "      return current.value\n",
        "    current=current.next\n",
        "  raise KeyError"
      ],
      "metadata": {
        "id": "FTYKZoSbYGvJ"
      },
      "execution_count": null,
      "outputs": []
    },
    {
      "cell_type": "markdown",
      "source": [
        "### **remove** method\n",
        "\n",
        "*   Removes a key-value pair from the hash table\n",
        "*   First gets the index where the pair should be stored using the **_hash** method\n",
        "\n",
        "*   It then searches the linked list at that index for the key, it removes the node from the list\n",
        "\n",
        "\n",
        "\n",
        "\n"
      ],
      "metadata": {
        "id": "kk484OflYb7o"
      }
    },
    {
      "cell_type": "code",
      "source": [
        "def remove(self, key):\n",
        "  index=self._hash(key)\n",
        "\n",
        "  previous=None\n",
        "  current=self.table[index]\n",
        "\n",
        "  while current:\n",
        "    if current.key==key:\n",
        "      if previous:\n",
        "        previous.next=current.next\n",
        "      else:\n",
        "        self.table[index]=current.next\n",
        "      self.size-=1\n",
        "      return\n",
        "    previous=current\n",
        "    current=current.next\n",
        "  raise KeyError(key)\n",
        "\n"
      ],
      "metadata": {
        "id": "pI5Cg8WwY3RK"
      },
      "execution_count": null,
      "outputs": []
    },
    {
      "cell_type": "markdown",
      "source": [
        "### **__str__** method\n",
        "\n",
        "*   Returns a string representation of the hash table\n",
        "\n",
        "\n"
      ],
      "metadata": {
        "id": "TzbMyVPkZmPA"
      }
    },
    {
      "cell_type": "code",
      "source": [
        "def __str__(self):\n",
        "  elements=[]\n",
        "  for i in range(self.capacity):\n",
        "    current=self.table[i]\n",
        "    while current:\n",
        "      elements.append((current.key, current.value))\n",
        "      current=current.next\n",
        "    return str(elements)"
      ],
      "metadata": {
        "id": "ncMUvns1ZywA"
      },
      "execution_count": null,
      "outputs": []
    },
    {
      "cell_type": "markdown",
      "source": [
        "## Example illustration of the **HashTable**"
      ],
      "metadata": {
        "id": "ZANQ11-gaMUk"
      }
    },
    {
      "cell_type": "code",
      "source": [
        "class Node:\n",
        "  def __init__(self, key, value):\n",
        "    self.key=key\n",
        "    self.value=value\n",
        "    self.next=None\n",
        "\n",
        "class HashTable:\n",
        "  def __init__(self, capacity):\n",
        "    self.capacity=capacity\n",
        "    self.size=0\n",
        "    self.table=[None]*capacity\n",
        "\n",
        "  def _hash(self, key):\n",
        "    return hash(key)%self.capacity\n",
        "  def insert(self, key, value):\n",
        "    index=self._hash(key)\n",
        "\n",
        "    if self.table[index] is None:\n",
        "      self.table[index]=Node(key, value)\n",
        "      self.size+=1\n",
        "    else:\n",
        "      current=self.table[index]\n",
        "      while current:\n",
        "        if current.key==key:\n",
        "          current.value=value\n",
        "          return\n",
        "        current=current.next\n",
        "      new_node=Node(key, value)\n",
        "      new_node.next=self.table[index]\n",
        "      self.table[index]=new_node\n",
        "      self.size+=1\n",
        "\n",
        "  def search(self, key):\n",
        "    index=self._hash(key)\n",
        "\n",
        "    current=self.table[index]\n",
        "    while current:\n",
        "      if current.key==key:\n",
        "        return current.value\n",
        "      current=current.next\n",
        "    raise KeyError\n",
        "\n",
        "  def remove(self, key):\n",
        "    index=self._hash(key)\n",
        "\n",
        "    previous=None\n",
        "    current=self.table[index]\n",
        "\n",
        "    while current:\n",
        "      if current.key==key:\n",
        "        if previous:\n",
        "          previous.next=current.next\n",
        "        else:\n",
        "          self.table[index]=current.next\n",
        "        self.size-=1\n",
        "        return\n",
        "      previous=current\n",
        "      current=current.next\n",
        "    raise KeyError(key)\n",
        "\n",
        "\n",
        "  def __len__(self):\n",
        "    return self.size\n",
        "\n",
        "  def __contains__(self, key):\n",
        "    try:\n",
        "      self.search(key)\n",
        "      return True\n",
        "    except KeyError:\n",
        "      return False\n",
        "\n",
        "if __name__==\"__main__\":\n",
        "  ht=HashTable(5)\n",
        "\n",
        "  ht.insert(\"apple\", 3)\n",
        "  ht.insert(\"Banana\", 2)\n",
        "  ht.insert(\"cherry\", 5)\n",
        "\n",
        "  print(\"apple\" in ht)\n",
        "  print(\"durian\" in ht)\n",
        "\n",
        "  print(ht.search(\"Banana\"))\n",
        "\n",
        "  ht.insert(\"Banana\", 4)\n",
        "  print(ht.search(\"Banana\"))\n",
        "\n",
        "  ht.remove(\"apple\")\n",
        "\n",
        "  print(len(ht))"
      ],
      "metadata": {
        "id": "dLxG5F-haSDH"
      },
      "execution_count": null,
      "outputs": []
    }
  ]
}