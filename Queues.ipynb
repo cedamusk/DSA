{
  "nbformat": 4,
  "nbformat_minor": 0,
  "metadata": {
    "colab": {
      "private_outputs": true,
      "provenance": [],
      "authorship_tag": "ABX9TyMiKQXj2tbyeDWYiK/moPNb",
      "include_colab_link": true
    },
    "kernelspec": {
      "name": "python3",
      "display_name": "Python 3"
    },
    "language_info": {
      "name": "python"
    }
  },
  "cells": [
    {
      "cell_type": "markdown",
      "metadata": {
        "id": "view-in-github",
        "colab_type": "text"
      },
      "source": [
        "<a href=\"https://colab.research.google.com/github/cedamusk/DSA/blob/main/Queues.ipynb\" target=\"_parent\"><img src=\"https://colab.research.google.com/assets/colab-badge.svg\" alt=\"Open In Colab\"/></a>"
      ]
    },
    {
      "cell_type": "markdown",
      "source": [
        "# **Queues**\n",
        "Queue in data structures is a linear collection of different data types which follow a specific order while performing various operations. It stores data in a First In Firts Out (FIFO) manner, that means that a recently added item is removed last, just like in a real life queue where the last person on the queue is served last, while the person who came first is served first.\n",
        "\n",
        "Queues are used to manage data flow and handle tasks in various applications, such as in Operating Systems, Network Protocols, and Data Processing, data pipelines in Machine Learning and Task Processing in AI workloads. They are also used to implement algorithms like breadth-first search, whih involves nodes in a graph level-by-level.\n"
      ],
      "metadata": {
        "id": "E8VYtrzyLlXM"
      }
    },
    {
      "cell_type": "markdown",
      "source": [
        "## Basic operation of Queue\n",
        "Unlike arrays and linked lists, elements in a queue cannot be operated from their respective locations. They can only e operated at two data pointers, the fron and rear.\n",
        "\n",
        "The basic operations in a queue include:\n",
        "\n",
        "*   Enqueue: Adds a new element to the queue\n",
        "\n",
        "\n"
      ],
      "metadata": {
        "id": "eUCtcHVNM5Ih"
      }
    },
    {
      "cell_type": "code",
      "execution_count": null,
      "metadata": {
        "id": "JfZ8G9zOLhUu"
      },
      "outputs": [],
      "source": [
        "from collections import deque\n",
        "queue=deque()\n",
        "queue.append('A')\n",
        "print(queue)"
      ]
    },
    {
      "cell_type": "markdown",
      "source": [
        "\n",
        "\n",
        "*   Peek: Returns the first element in the queue\n",
        "\n"
      ],
      "metadata": {
        "id": "OOim9nvoPrMR"
      }
    },
    {
      "cell_type": "code",
      "source": [
        "print(queue[0])"
      ],
      "metadata": {
        "id": "kf2WCFKkN4nM"
      },
      "execution_count": null,
      "outputs": []
    },
    {
      "cell_type": "markdown",
      "source": [
        "\n",
        "\n",
        "*   Size: Finds the number of elements in the queue\n",
        "\n"
      ],
      "metadata": {
        "id": "9oR42hBqP4Of"
      }
    },
    {
      "cell_type": "code",
      "source": [
        "print(len(queue))"
      ],
      "metadata": {
        "id": "QOiFQC7UP1-C"
      },
      "execution_count": null,
      "outputs": []
    },
    {
      "cell_type": "markdown",
      "source": [
        "\n",
        "\n",
        "*   Dequeue: Removes and returns the first element from the queue\n",
        "\n"
      ],
      "metadata": {
        "id": "17knwT8cQDNb"
      }
    },
    {
      "cell_type": "code",
      "source": [
        "queue.popleft()\n",
        "print(queue)"
      ],
      "metadata": {
        "id": "T2RHoJBPQBaK"
      },
      "execution_count": null,
      "outputs": []
    },
    {
      "cell_type": "markdown",
      "source": [
        "\n",
        "\n",
        "*   isEmpty: checks if the queue is empty\n",
        "\n"
      ],
      "metadata": {
        "id": "FGhfNpBYQSW0"
      }
    },
    {
      "cell_type": "code",
      "source": [
        "if not queue:\n",
        "  print(\"Queue is Empty\")"
      ],
      "metadata": {
        "id": "NDr5zCGDQQHE"
      },
      "execution_count": null,
      "outputs": []
    },
    {
      "cell_type": "markdown",
      "source": [
        "## Implementation of a Queue\n",
        "Queues can be implemented using different data structures, depending on the requirements of the application. Here are some common implementations;"
      ],
      "metadata": {
        "id": "olWLWWBjSOa1"
      }
    },
    {
      "cell_type": "markdown",
      "source": [
        "### Using Arrays\n",
        "\n",
        "\n",
        "\n",
        "*   A simple way to implement a queue is by using a list.\n",
        "*   Use append() to add an element to the end.\n",
        "*   Use pop(0) to remove the front element.\n",
        "\n",
        "\n",
        "\n",
        "\n"
      ],
      "metadata": {
        "id": "PvNo6YcDSg0J"
      }
    },
    {
      "cell_type": "code",
      "source": [
        "queue=[]\n",
        "\n",
        "queue.append(10)\n",
        "queue.append(20)\n",
        "print(\"Queue after enqueing:\", queue)\n",
        "\n",
        "queue.pop(0)\n",
        "print(\"Queue after dequing:\", queue)"
      ],
      "metadata": {
        "id": "Y6lpIRTDQdyt"
      },
      "execution_count": null,
      "outputs": []
    },
    {
      "cell_type": "markdown",
      "source": [
        "**Advantages**\n",
        "\n",
        "*   Easy to implement.\n",
        "*   Built-in support for dynamic resizing in Python lists.\n",
        "*   Suitable for small-problems.\n",
        "\n",
        "**Disadvantages**\n",
        "\n",
        "\n",
        "*   Dequeue operation is innefficient O(n) due to the need to shift elements\n",
        "*   Fixed memory allocation if implemented with a static array\n",
        "\n",
        "**Real-World applications**\n",
        "\n",
        "\n",
        "*   Useful for simple task scheduling or when performance isn't critical (basic printer job queue)\n",
        "\n",
        "\n",
        "\n",
        "\n",
        "\n"
      ],
      "metadata": {
        "id": "VQo1f2n8dbcG"
      }
    },
    {
      "cell_type": "code",
      "source": [
        "class PrinterQueue:\n",
        "    def __init__(self):\n",
        "        self.jobs = []\n",
        "        self.job_count = 0\n",
        "\n",
        "    def add_job(self, document_name, num_pages, priority='normal'):\n",
        "        \"\"\"Add a new print job to the queue\"\"\"\n",
        "        job = {\n",
        "            'id': self.job_count,\n",
        "            'document': document_name,\n",
        "            'pages': num_pages,\n",
        "            'priority': priority,\n",
        "            'status': 'waiting'\n",
        "        }\n",
        "\n",
        "        # If priority is high, add to the front of the queue\n",
        "        if priority == 'high':\n",
        "            self.jobs.insert(0, job)\n",
        "        else:\n",
        "            self.jobs.append(job)\n",
        "\n",
        "        self.job_count += 1\n",
        "        return job['id']\n",
        "\n",
        "    def process_next_job(self):\n",
        "        \"\"\"Process the next job in the queue\"\"\"\n",
        "        if not self.jobs:\n",
        "            return \"No jobs in queue\"\n",
        "\n",
        "        job = self.jobs.pop(0)\n",
        "        job['status'] = 'printing'\n",
        "        return f\"Printing job {job['id']}: {job['document']} ({job['pages']} pages)\"\n",
        "\n",
        "    def display_queue(self):\n",
        "        \"\"\"Show all jobs currently in the queue\"\"\"\n",
        "        if not self.jobs:\n",
        "            return \"Queue is empty\"\n",
        "\n",
        "        queue_status = \"\\nCurrent Print Queue:\"\n",
        "        queue_status += \"\\nID | Document | Pages | Priority | Status\"\n",
        "        queue_status += \"\\n------------------------------------------\"\n",
        "\n",
        "        for job in self.jobs:\n",
        "            queue_status += f\"\\n{job['id']} | {job['document']} | {job['pages']} | {job['priority']} | {job['status']}\"\n",
        "\n",
        "        return queue_status\n",
        "\n",
        "    def cancel_job(self, job_id):\n",
        "        \"\"\"Cancel a specific job by ID\"\"\"\n",
        "        for i, job in enumerate(self.jobs):\n",
        "            if job['id'] == job_id:\n",
        "                removed_job = self.jobs.pop(i)\n",
        "                return f\"Cancelled job: {removed_job['document']}\"\n",
        "        return \"Job not found\"\n",
        "\n",
        "    def queue_length(self):\n",
        "        \"\"\"Return the number of jobs in queue\"\"\"\n",
        "        return len(self.jobs)\n",
        "\n",
        "# Test the printer queue\n",
        "def test_printer_queue():\n",
        "    printer = PrinterQueue()\n",
        "\n",
        "    # Add some print jobs\n",
        "    print(\"\\nAdding jobs to queue...\")\n",
        "    printer.add_job(\"Report.pdf\", 5)\n",
        "    printer.add_job(\"Urgent_Memo.doc\", 1, \"high\")\n",
        "    printer.add_job(\"Presentation.ppt\", 15)\n",
        "\n",
        "    # Display current queue\n",
        "    print(printer.display_queue())\n",
        "\n",
        "    # Process some jobs\n",
        "    print(\"\\nProcessing jobs...\")\n",
        "    print(printer.process_next_job())\n",
        "    print(printer.process_next_job())\n",
        "\n",
        "    # Add another job\n",
        "    printer.add_job(\"Invoice.pdf\", 2)\n",
        "\n",
        "    # Show updated queue\n",
        "    print(printer.display_queue())\n",
        "\n",
        "    # Cancel a job\n",
        "    print(\"\\nCancelling job...\")\n",
        "    print(printer.cancel_job(2))\n",
        "\n",
        "    # Show final queue status\n",
        "    print(printer.display_queue())\n",
        "\n",
        "    # Show queue length\n",
        "    print(f\"\\nJobs remaining in queue: {printer.queue_length()}\")\n",
        "\n",
        "# Run the test\n",
        "if __name__ == \"__main__\":\n",
        "    test_printer_queue()"
      ],
      "metadata": {
        "id": "6AfPVwAEkeyo"
      },
      "execution_count": null,
      "outputs": []
    },
    {
      "cell_type": "markdown",
      "source": [
        "### Using collections.deque\n",
        "\n",
        "*   deque (double ended queue) from the collections module is optimized for queue operations.\n",
        "*   It provides O(1) time complexity for both enqueue and dequeue operations.\n",
        "\n"
      ],
      "metadata": {
        "id": "7zsAL-hTTT3U"
      }
    },
    {
      "cell_type": "code",
      "source": [
        "from collections import deque\n",
        "queue=deque()\n",
        "\n",
        "queue.append(10)\n",
        "queue.append(20)\n",
        "print(\"Queue after enquing:\", queue)\n",
        "\n",
        "queue.popleft()\n",
        "print(\"Queue after dequeing:\", queue)"
      ],
      "metadata": {
        "id": "nrQE7pXJTPTM"
      },
      "execution_count": null,
      "outputs": []
    },
    {
      "cell_type": "markdown",
      "source": [
        "**Advantages**\n",
        "\n",
        "\n",
        "*   Efficient enqueue and dequeue operations O(1).\n",
        "*   Supports both FIFO and LIFO operations.\n",
        "*   Dynamically resizes without manual intervention\n",
        "\n",
        "**Disadvantages**\n",
        "*   Uses more memory than a simple array implementation due to its doubly linked structure.\n",
        "\n",
        "**Real-world application**\n",
        "\n",
        "\n",
        "*   Used in simulation systems, such as customer service lines or ticketing systems, where constant addition and removal of elements are required.\n",
        "*   Suitable for breadth-first search (BFS) in graphs.\n",
        "\n",
        "\n",
        "\n",
        "\n",
        "\n",
        "\n",
        "\n",
        "\n"
      ],
      "metadata": {
        "id": "aff1eRGueryl"
      }
    },
    {
      "cell_type": "code",
      "source": [
        "from collections import deque\n",
        "from datetime import datetime\n",
        "import random\n",
        "import time\n",
        "\n",
        "class TicketingSystem:\n",
        "    def __init__(self):\n",
        "        self.tickets = deque()\n",
        "        self.resolved_tickets = deque(maxlen=100)  # Keep last 100 resolved tickets\n",
        "        self.priority_levels = {'low': 3, 'medium': 2, 'high': 1, 'urgent': 0}\n",
        "        self.categories = ['Technical', 'Billing', 'Account', 'General']\n",
        "        self.ticket_counter = 0\n",
        "\n",
        "    def generate_ticket_id(self):\n",
        "        \"\"\"Generate unique ticket ID with timestamp\"\"\"\n",
        "        self.ticket_counter += 1\n",
        "        timestamp = datetime.now().strftime('%Y%m%d')\n",
        "        return f\"TKT-{timestamp}-{self.ticket_counter:04d}\"\n",
        "\n",
        "    def create_ticket(self, customer_name, issue, category, priority='low'):\n",
        "        \"\"\"Create a new support ticket\"\"\"\n",
        "        if category not in self.categories:\n",
        "            raise ValueError(f\"Invalid category. Choose from {self.categories}\")\n",
        "        if priority not in self.priority_levels:\n",
        "            raise ValueError(\"Invalid priority level\")\n",
        "\n",
        "        ticket = {\n",
        "            'ticket_id': self.generate_ticket_id(),\n",
        "            'customer_name': customer_name,\n",
        "            'issue': issue,\n",
        "            'category': category,\n",
        "            'priority': priority,\n",
        "            'priority_level': self.priority_levels[priority],\n",
        "            'status': 'Open',\n",
        "            'created_at': datetime.now(),\n",
        "            'resolved_at': None,\n",
        "            'resolution': None\n",
        "        }\n",
        "\n",
        "        # Insert ticket based on priority\n",
        "        if not self.tickets or self.priority_levels[priority] > self.tickets[-1]['priority_level']:\n",
        "            self.tickets.append(ticket)\n",
        "        else:\n",
        "            # Find correct position based on priority\n",
        "            for i, existing_ticket in enumerate(self.tickets):\n",
        "                if self.priority_levels[priority] <= existing_ticket['priority_level']:\n",
        "                    self.tickets.insert(i, ticket)\n",
        "                    break\n",
        "\n",
        "        return ticket['ticket_id']\n",
        "\n",
        "    def resolve_ticket(self, ticket_id, resolution):\n",
        "        \"\"\"Resolve a ticket and move it to resolved tickets\"\"\"\n",
        "        for i, ticket in enumerate(self.tickets):\n",
        "            if ticket['ticket_id'] == ticket_id:\n",
        "                ticket = self.tickets[i]\n",
        "                ticket['status'] = 'Resolved'\n",
        "                ticket['resolved_at'] = datetime.now()\n",
        "                ticket['resolution'] = resolution\n",
        "                resolved_ticket = self.tickets.remove(ticket)\n",
        "                self.resolved_tickets.append(ticket)\n",
        "                return f\"Ticket {ticket_id} resolved\"\n",
        "        return f\"Ticket {ticket_id} not found\"\n",
        "\n",
        "    def get_next_ticket(self):\n",
        "        \"\"\"Get the next ticket to be processed\"\"\"\n",
        "        if not self.tickets:\n",
        "            return None\n",
        "        return self.tickets[0]\n",
        "\n",
        "    def process_ticket(self, ticket_id, resolution):\n",
        "        \"\"\"Process and resolve the next ticket\"\"\"\n",
        "        if not self.tickets:\n",
        "            return \"No tickets in queue\"\n",
        "\n",
        "        if self.tickets[0]['ticket_id'] != ticket_id:\n",
        "            return f\"Ticket {ticket_id} is not the next in queue\"\n",
        "\n",
        "        ticket = self.tickets.popleft()\n",
        "        ticket['status'] = 'Resolved'\n",
        "        ticket['resolved_at'] = datetime.now()\n",
        "        ticket['resolution'] = resolution\n",
        "        self.resolved_tickets.append(ticket)\n",
        "        return f\"Processed ticket {ticket_id}\"\n",
        "\n",
        "    def display_ticket_queue(self):\n",
        "        \"\"\"Display current ticket queue\"\"\"\n",
        "        if not self.tickets:\n",
        "            return \"No tickets in queue\"\n",
        "\n",
        "        display = \"\\nCurrent Ticket Queue:\"\n",
        "        display += \"\\nID | Customer | Category | Priority | Status | Created At\"\n",
        "        display += \"\\n\" + \"-\" * 80\n",
        "\n",
        "        for ticket in self.tickets:\n",
        "            display += f\"\\n{ticket['ticket_id']} | {ticket['customer_name']} | {ticket['category']} | \"\n",
        "            display += f\"{ticket['priority']} | {ticket['status']} | {ticket['created_at'].strftime('%Y-%m-%d %H:%M')}\"\n",
        "\n",
        "        return display\n",
        "\n",
        "    def get_category_stats(self):\n",
        "        \"\"\"Get statistics about tickets by category\"\"\"\n",
        "        stats = {category: 0 for category in self.categories}\n",
        "        for ticket in self.tickets:\n",
        "            stats[ticket['category']] += 1\n",
        "        return stats\n",
        "\n",
        "# Simulation of the ticketing system\n",
        "def simulate_ticketing_system():\n",
        "    ts = TicketingSystem()\n",
        "\n",
        "    # Sample customer issues\n",
        "    issues = [\n",
        "        \"Cannot login to account\",\n",
        "        \"Billing discrepancy\",\n",
        "        \"Service not working\",\n",
        "        \"Need account upgrade\",\n",
        "        \"Password reset required\",\n",
        "        \"Feature request\",\n",
        "        \"Bug report\",\n",
        "        \"Account locked\"\n",
        "    ]\n",
        "\n",
        "    # Simulate creating tickets\n",
        "    print(\"Simulating ticket creation...\")\n",
        "    for i in range(5):\n",
        "        customer_name = f\"Customer{i+1}\"\n",
        "        issue = random.choice(issues)\n",
        "        category = random.choice(ts.categories)\n",
        "        priority = random.choice(list(ts.priority_levels.keys()))\n",
        "\n",
        "        ticket_id = ts.create_ticket(customer_name, issue, category, priority)\n",
        "        print(f\"Created ticket {ticket_id} for {customer_name}\")\n",
        "        time.sleep(0.5)  # Simulate time between tickets\n",
        "\n",
        "    # Display queue\n",
        "    print(ts.display_ticket_queue())\n",
        "\n",
        "    # Process some tickets\n",
        "    print(\"\\nProcessing tickets...\")\n",
        "    for _ in range(3):\n",
        "        next_ticket = ts.get_next_ticket()\n",
        "        if next_ticket:\n",
        "            resolution = f\"Issue resolved for {next_ticket['issue']}\"\n",
        "            print(ts.process_ticket(next_ticket['ticket_id'], resolution))\n",
        "            time.sleep(0.5)\n",
        "\n",
        "    # Display updated queue\n",
        "    print(ts.display_ticket_queue())\n",
        "\n",
        "    # Show category statistics\n",
        "    print(\"\\nTicket Categories Statistics:\")\n",
        "    stats = ts.get_category_stats()\n",
        "    for category, count in stats.items():\n",
        "        print(f\"{category}: {count} tickets\")\n",
        "\n",
        "if __name__==\"__main__\":\n",
        "    simulate_ticketing_system()"
      ],
      "metadata": {
        "id": "C-ZeG6xsydUL"
      },
      "execution_count": null,
      "outputs": []
    },
    {
      "cell_type": "markdown",
      "source": [
        "### Use of queue.Queue\n",
        "\n",
        "*   queue.Queue is a thread safe implementation provided by the Python standard library\n",
        "*   Useful for multithreaded applications\n",
        "\n"
      ],
      "metadata": {
        "id": "SeSbIxiIVbmf"
      }
    },
    {
      "cell_type": "code",
      "source": [
        "from queue import Queue\n",
        "queue=Queue()\n",
        "\n",
        "queue.put(10)\n",
        "queue.put(20)\n",
        "\n",
        "print(queue.get())\n",
        "print(queue.get())"
      ],
      "metadata": {
        "id": "_OaDlrWCT-N_"
      },
      "execution_count": null,
      "outputs": []
    },
    {
      "cell_type": "markdown",
      "source": [
        "**Advantages**\n",
        "\n",
        "\n",
        "*   Thread-safe, making it suitable for multithread applications.\n",
        "*   Provides blocking put() and get() methods for thread synchronization.\n",
        "*   Automatically handles size constraints if a maximum size is set.\n",
        "\n",
        "**Disadvantages**\n",
        "\n",
        "\n",
        "*   Slightly slower than deque due to threas-safety overhead.\n",
        "*   Limited to standard FIFO behavior (specialized types like priority queues are separate)\n",
        "\n",
        "**Real-world applications**\n",
        "\n",
        "\n",
        "*   Used in multithreaded systems, such as producer-consumer models.\n",
        "*   Common in web servers for managing request queues.\n",
        "\n",
        "\n",
        "\n",
        "\n",
        "\n",
        "\n",
        "\n"
      ],
      "metadata": {
        "id": "LKTDr2J_gvJl"
      }
    },
    {
      "cell_type": "markdown",
      "source": [
        "### Using a linked list\n",
        "\n",
        "\n",
        "*   A linked list can efficiently implement a queue.\n",
        "*   Each node has a value and a pointer to the enxt node.\n",
        "\n"
      ],
      "metadata": {
        "id": "8hVvf71LXSoh"
      }
    },
    {
      "cell_type": "code",
      "source": [
        "class Node:\n",
        "  def __init__(self, value):\n",
        "    self.value=value\n",
        "    self.next=None\n",
        "\n",
        "class Queue:\n",
        "  def __init__(self):\n",
        "    self.fron=self.rear=None\n",
        "\n",
        "  def enqueue(self, value):\n",
        "    new_node=Node(value)\n",
        "    if self.rear is None:\n",
        "      self.front=self.rear=new_node\n",
        "    else:\n",
        "      self.rear.next=new_node\n",
        "      self.rear=new_node\n",
        "\n",
        "  def dequeue(self):\n",
        "    if self.front is None:\n",
        "      return \"Queue is empty\"\n",
        "    temp=self.front\n",
        "    self.front=temp.next\n",
        "    if self.front is None:\n",
        "      self.rear=None\n",
        "    return temp.value\n",
        "\n",
        "queue=Queue()\n",
        "queue.enqueue(10)\n",
        "queue.enqueue(20)\n",
        "print(queue.dequeue())\n"
      ],
      "metadata": {
        "id": "hUq-d_iqV8aI"
      },
      "execution_count": null,
      "outputs": []
    },
    {
      "cell_type": "markdown",
      "source": [
        "**Advantages**\n",
        "\n",
        "*   Dynamic memory allocation: Can grow or shrink as needed without pre-defining the size\n",
        "*   Efficient enqueu and deque O(1).\n",
        "\n",
        "**Disadvantage**\n",
        "\n",
        "\n",
        "*   Requires more memory per element due to node pointers.\n",
        "*   More complex to implement compared to arrays or deque.\n",
        "\n",
        "**Real-world applications**\n",
        "\n",
        "\n",
        "*   Used in OS for managing tasks in a scheduler or process queues.\n",
        "*   Suitable for network routers where packet queues grow and shrink dynamically.\n",
        "\n",
        "\n",
        "\n",
        "\n",
        "\n"
      ],
      "metadata": {
        "id": "AKpO6nezhtXs"
      }
    },
    {
      "cell_type": "markdown",
      "source": [
        "### Using a circular buffer\n",
        "\n",
        "*   Useful for fixed-size queues.\n",
        "*   Keeps track of the fron and the rear indices\n",
        "*   Wraps around when reaching the end of the buffer\n",
        "\n",
        "\n",
        "\n"
      ],
      "metadata": {
        "id": "edlHNAuZZlle"
      }
    },
    {
      "cell_type": "code",
      "source": [
        "class CircularQueue:\n",
        "  def __init__(self, size):\n",
        "    self.queue=[None]*size\n",
        "    self.front=self.rear=-1\n",
        "    self.size=size\n",
        "\n",
        "  def enqueue(self, value):\n",
        "    if (self.rear+1)%self.size==self.front:\n",
        "      return \"Queue is full\"\n",
        "    elif self.front==-1:\n",
        "      self.front=self.rear=0\n",
        "    else:\n",
        "      self.rear=(self.rear+1)%self.size\n",
        "    self.queue[self.rear]=value\n",
        "\n",
        "  def dequeue(self):\n",
        "    if self.front==-1:\n",
        "      return \"Queue is empty\"\n",
        "    temp=self.queue[self.front]\n",
        "    if self.front==self.rear:\n",
        "      self.front=self.rear=-1\n",
        "    else:\n",
        "      self.front=(self.front +1)%self.size\n",
        "    return temp\n",
        "\n",
        "queue=CircularQueue(3)\n",
        "queue.enqueue(10)\n",
        "queue.enqueue(20)\n",
        "print(queue.dequeue())"
      ],
      "metadata": {
        "id": "TKDb7V-KY1uu"
      },
      "execution_count": null,
      "outputs": []
    },
    {
      "cell_type": "markdown",
      "source": [
        "**Advantages**\n",
        "\n",
        "*   Efficient for fixed size queues as no shifting elements is needed.\n",
        "*   Prevents memory fragmentation.\n",
        "*   Memory efficient: Uses a fixed-size buffer with a wrap-around mechanism.\n",
        "\n",
        "**Disadvantages**\n",
        "\n",
        "\n",
        "*   Limited size: Cannot dynamically grow beyond the fixed size.\n",
        "*   Complexity: Requires careful handling of indices(front and rear pointers).\n",
        "\n",
        "**Real-world applications**\n",
        "\n",
        "\n",
        "*   Used in real-time systems such as data streaming or audio/ video buffers.\n",
        "*   Common in embedded systems, where memory is limited (IoT devices).\n",
        "\n",
        "\n",
        "\n",
        "\n",
        "\n"
      ],
      "metadata": {
        "id": "EAv7eZN8jOSe"
      }
    },
    {
      "cell_type": "code",
      "source": [],
      "metadata": {
        "id": "sRUACNmPbNmM"
      },
      "execution_count": null,
      "outputs": []
    }
  ]
}