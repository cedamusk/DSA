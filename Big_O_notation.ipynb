{
  "nbformat": 4,
  "nbformat_minor": 0,
  "metadata": {
    "colab": {
      "private_outputs": true,
      "provenance": [],
      "authorship_tag": "ABX9TyPnf0/O2fwObvfxNSRJ27cd",
      "include_colab_link": true
    },
    "kernelspec": {
      "name": "python3",
      "display_name": "Python 3"
    },
    "language_info": {
      "name": "python"
    }
  },
  "cells": [
    {
      "cell_type": "markdown",
      "metadata": {
        "id": "view-in-github",
        "colab_type": "text"
      },
      "source": [
        "<a href=\"https://colab.research.google.com/github/cedamusk/DSA/blob/main/Big_O_notation.ipynb\" target=\"_parent\"><img src=\"https://colab.research.google.com/assets/colab-badge.svg\" alt=\"Open In Colab\"/></a>"
      ]
    },
    {
      "cell_type": "markdown",
      "source": [
        "# Big O notation\n"
      ],
      "metadata": {
        "id": "jTyAsPMmD-I6"
      }
    },
    {
      "cell_type": "markdown",
      "source": [
        "Big-O notation is a mathematical notation used to express the perfomance of an algorithm.\n",
        "\n",
        "It is used for:\n",
        "\n",
        "*   Algorithm efficiency comparison\n",
        "*   Predicting algorithm behaviour\n",
        "*   Optimization of code\n",
        "*   Resource management\n",
        "*   Problem solving approach\n",
        "\n",
        "\n",
        "\n",
        "\n",
        "\n",
        "\n"
      ],
      "metadata": {
        "id": "37cHhSCxEHQ7"
      }
    },
    {
      "cell_type": "markdown",
      "source": [
        "# Time and Space complexities\n",
        "Time complexity is the amount of time an algorithm takes to complete its execution as a function of the input size.\n",
        "\n",
        "Space complexity refers refers to the amount of additional memory and algorithm uses during its execution besides the input itself\n",
        "\n",
        "Both are represented by the same annotations"
      ],
      "metadata": {
        "id": "4VyuPMeKFFPF"
      }
    },
    {
      "cell_type": "markdown",
      "source": [
        "# Complexity annotations\n",
        "## O(n)\n",
        "The linear time complexity\n",
        "\n",
        "The algorithm grows linearly with the input size\n",
        "\n",
        "The run time of the algorithm doubles if the input size doubles"
      ],
      "metadata": {
        "id": "JUZFeI3uGfYw"
      }
    },
    {
      "cell_type": "code",
      "source": [
        "def get_squared_numbers(numbers):\n",
        "  squared_numbers = []\n",
        "  for n in numbers:\n",
        "    squared_numbers.append(n*n)\n",
        "  return squared_numbers\n",
        "\n",
        "numbers=[2, 5, 8, 9]\n",
        "squared_numbers = get_squared_numbers(numbers)\n",
        "print(squared_numbers)"
      ],
      "metadata": {
        "id": "LkUIXAeyHLpa"
      },
      "execution_count": null,
      "outputs": []
    },
    {
      "cell_type": "markdown",
      "source": [
        "### Example applications\n",
        "\n",
        "\n",
        "*   Search algorithms.\n",
        "*   Summing and aggregation of data.\n",
        "*   Data processing\n",
        "*   Basic sorting\n",
        "\n"
      ],
      "metadata": {
        "id": "OKkyOGIFvv5y"
      }
    },
    {
      "cell_type": "markdown",
      "source": [
        "## O(1)\n",
        "Constant time complexity\n",
        "\n",
        "Algorithm runtime remains constant regardless of the input size"
      ],
      "metadata": {
        "id": "Zxow52i2Hn8C"
      }
    },
    {
      "cell_type": "code",
      "source": [
        "def get_favourite_colour():\n",
        "  favourite_colour=\"Blue\"\n",
        "  return favourite_colour\n",
        "\n",
        "favourite_colour=get_favourite_colour()\n",
        "print(favourite_colour)"
      ],
      "metadata": {
        "id": "lq7wNxLIH20S"
      },
      "execution_count": null,
      "outputs": []
    },
    {
      "cell_type": "markdown",
      "source": [
        "### Example applications\n",
        "\n",
        "*   Hash maps\n",
        "*   Array indexing\n",
        "*   Push/Pop operations on Stack/Queue\n",
        "*   Checking membership in a Set\n",
        "\n",
        "\n",
        "\n"
      ],
      "metadata": {
        "id": "Pk021MywwM4k"
      }
    },
    {
      "cell_type": "markdown",
      "source": [
        "## O(n**2)\n",
        "Quadratic time complexity\n",
        "\n",
        "Algorithm runtime grows quadratically with the input size"
      ],
      "metadata": {
        "id": "XIBXp0vEJIqf"
      }
    },
    {
      "cell_type": "code",
      "source": [
        "numbers=[3,6,2,4,3,6,8,9]\n",
        "for i in range(len(numbers)):\n",
        "  for j in range(i+1, len(numbers)):\n",
        "    if numbers[i]==numbers[j]:\n",
        "      print(str(numbers[i]) + \" is a duplicate\")\n",
        "      break"
      ],
      "metadata": {
        "id": "dQ3iGxjLJe5w"
      },
      "execution_count": null,
      "outputs": []
    },
    {
      "cell_type": "markdown",
      "source": [
        "### Example applications\n",
        "\n",
        "*   Bubble sort, Selection sort and insertion sort\n",
        "*   Brute-force Search\n",
        "*   Matrix Multiplication\n",
        "*   Graph Algorithms(for dense Graphs)\n",
        "\n",
        "\n",
        "\n"
      ],
      "metadata": {
        "id": "aMgUlTKBwi6d"
      }
    },
    {
      "cell_type": "markdown",
      "source": [
        "## O(log n)\n",
        "The execution time of the algorithm grows logarithmically with the input size\n",
        "\n"
      ],
      "metadata": {
        "id": "r9Op987sK5YF"
      }
    },
    {
      "source": [
        "def binary_search(data, target):\n",
        "  left=0\n",
        "  right=len(data)-1\n",
        "\n",
        "  while left<=right:\n",
        "    mid=(left+right)//2\n",
        "    if data[mid]==target:\n",
        "      return mid\n",
        "    elif data[mid]<target:\n",
        "      left=mid+1\n",
        "    else:\n",
        "      right=mid-1\n",
        "  return -1\n",
        "\n",
        "data=[2, 5, 8, 12, 16, 23, 38]\n",
        "target=16\n",
        "result=binary_search(data, target)\n",
        "\n",
        "if result !=-1:\n",
        "  print(\"Element found at index\", result)\n",
        "else:\n",
        "  print(\"Element not found in the list\")"
      ],
      "cell_type": "code",
      "metadata": {
        "id": "O_pmBogJMmmn"
      },
      "execution_count": null,
      "outputs": []
    },
    {
      "cell_type": "markdown",
      "source": [
        "### Example application\n",
        "\n",
        "\n",
        "*   Binary Search\n",
        "*   Balanced search trees\n",
        "*   Heap operations\n",
        "*   Divide and conquer algorithms\n",
        "\n",
        "\n",
        "\n"
      ],
      "metadata": {
        "id": "C6DCMdZHxWk5"
      }
    }
  ]
}